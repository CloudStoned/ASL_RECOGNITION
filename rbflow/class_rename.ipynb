{
 "cells": [
  {
   "cell_type": "code",
   "execution_count": 3,
   "id": "a62114e2-f9f5-4919-8668-8a3039d014e6",
   "metadata": {},
   "outputs": [
    {
     "name": "stdout",
     "output_type": "stream",
     "text": [
      "Class ID update completed.\n"
     ]
    }
   ],
   "source": [
    "import os\n",
    "\n",
    "# Path to your folder containing text files\n",
    "folder_path = './class 10'\n",
    "\n",
    "\n",
    "# Loop through all the files in the folder\n",
    "for filename in os.listdir(folder_path):\n",
    "    # Only process .txt files\n",
    "    if filename.endswith('.txt'):\n",
    "        file_path = os.path.join(folder_path, filename)\n",
    "\n",
    "        # Read the content of the file\n",
    "        with open(file_path, 'r') as file:\n",
    "            lines = file.readlines()\n",
    "\n",
    "        # Replace the first number (class ID) in each line with 3\n",
    "        new_lines = []\n",
    "        for line in lines:\n",
    "            parts = line.split()\n",
    "            if len(parts) > 0:\n",
    "                parts[0] = '10'  # class name\n",
    "            new_lines.append(' '.join(parts) + '\\n')\n",
    "\n",
    "        # Write the modified content back to the file\n",
    "        with open(file_path, 'w') as file:\n",
    "            file.writelines(new_lines)\n",
    "\n",
    "print(\"Class ID update completed.\")\n"
   ]
  }
 ],
 "metadata": {
  "kernelspec": {
   "display_name": "Python 3 (ipykernel)",
   "language": "python",
   "name": "python3"
  },
  "language_info": {
   "codemirror_mode": {
    "name": "ipython",
    "version": 3
   },
   "file_extension": ".py",
   "mimetype": "text/x-python",
   "name": "python",
   "nbconvert_exporter": "python",
   "pygments_lexer": "ipython3",
   "version": "3.9.12"
  }
 },
 "nbformat": 4,
 "nbformat_minor": 5
}
