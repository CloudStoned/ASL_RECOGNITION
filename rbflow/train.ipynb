{
 "cells": [
  {
   "cell_type": "code",
   "execution_count": 1,
   "metadata": {},
   "outputs": [
    {
     "name": "stdout",
     "output_type": "stream",
     "text": [
      "CUDA Available: True\n",
      "CUDA Version: 12.1\n",
      "Number of GPUs: 1\n",
      "GPU 0: NVIDIA GeForce GTX 1070\n"
     ]
    }
   ],
   "source": [
    "import torch\n",
    "\n",
    "# Check if CUDA is available\n",
    "cuda_available = torch.cuda.is_available()\n",
    "print(f\"CUDA Available: {cuda_available}\")\n",
    "\n",
    "# Check the CUDA version\n",
    "cuda_version = torch.version.cuda\n",
    "print(f\"CUDA Version: {cuda_version}\")\n",
    "\n",
    "# Check the number of available GPUs\n",
    "num_gpus = torch.cuda.device_count()\n",
    "print(f\"Number of GPUs: {num_gpus}\")\n",
    "\n",
    "# If GPUs are available, print their names\n",
    "for i in range(num_gpus):\n",
    "    print(f\"GPU {i}: {torch.cuda.get_device_name(i)}\")"
   ]
  },
  {
   "cell_type": "code",
   "execution_count": 2,
   "metadata": {},
   "outputs": [],
   "source": [
    "from ultralytics import YOLO\n",
    "\n",
    "model = YOLO('yolov8n.pt')  # Load a pretrained model (recommended for training)"
   ]
  },
  {
   "cell_type": "code",
   "execution_count": 3,
   "metadata": {},
   "outputs": [
    {
     "name": "stdout",
     "output_type": "stream",
     "text": [
      "New https://pypi.org/project/ultralytics/8.2.98 available  Update with 'pip install -U ultralytics'\n",
      "Ultralytics YOLOv8.2.62  Python-3.11.9 torch-2.3.1+cu121 CUDA:0 (NVIDIA GeForce GTX 1070, 8192MiB)\n",
      "\u001b[34m\u001b[1mengine\\trainer: \u001b[0mtask=detect, mode=train, model=yolov8n.pt, data=./data.yaml, epochs=25, time=None, patience=100, batch=16, imgsz=640, save=True, save_period=-1, cache=False, device=0, workers=8, project=None, name=train4, exist_ok=False, pretrained=True, optimizer=auto, verbose=True, seed=0, deterministic=True, single_cls=False, rect=False, cos_lr=False, close_mosaic=10, resume=False, amp=True, fraction=1.0, profile=False, freeze=None, multi_scale=False, overlap_mask=True, mask_ratio=4, dropout=0.0, val=True, split=val, save_json=False, save_hybrid=False, conf=None, iou=0.7, max_det=300, half=False, dnn=False, plots=True, source=None, vid_stride=1, stream_buffer=False, visualize=False, augment=False, agnostic_nms=False, classes=None, retina_masks=False, embed=None, show=False, save_frames=False, save_txt=False, save_conf=False, save_crop=False, show_labels=True, show_conf=True, show_boxes=True, line_width=None, format=torchscript, keras=False, optimize=False, int8=False, dynamic=False, simplify=False, opset=None, workspace=4, nms=False, lr0=0.01, lrf=0.01, momentum=0.937, weight_decay=0.0005, warmup_epochs=3.0, warmup_momentum=0.8, warmup_bias_lr=0.1, box=7.5, cls=0.5, dfl=1.5, pose=12.0, kobj=1.0, label_smoothing=0.0, nbs=64, hsv_h=0.015, hsv_s=0.7, hsv_v=0.4, degrees=0.0, translate=0.1, scale=0.5, shear=0.0, perspective=0.0, flipud=0.0, fliplr=0.5, bgr=0.0, mosaic=1.0, mixup=0.0, copy_paste=0.0, auto_augment=randaugment, erasing=0.4, crop_fraction=1.0, cfg=None, tracker=botsort.yaml, save_dir=runs\\detect\\train4\n",
      "Overriding model.yaml nc=80 with nc=11\n",
      "\n",
      "                   from  n    params  module                                       arguments                     \n",
      "  0                  -1  1       464  ultralytics.nn.modules.conv.Conv             [3, 16, 3, 2]                 \n",
      "  1                  -1  1      4672  ultralytics.nn.modules.conv.Conv             [16, 32, 3, 2]                \n",
      "  2                  -1  1      7360  ultralytics.nn.modules.block.C2f             [32, 32, 1, True]             \n",
      "  3                  -1  1     18560  ultralytics.nn.modules.conv.Conv             [32, 64, 3, 2]                \n",
      "  4                  -1  2     49664  ultralytics.nn.modules.block.C2f             [64, 64, 2, True]             \n",
      "  5                  -1  1     73984  ultralytics.nn.modules.conv.Conv             [64, 128, 3, 2]               \n",
      "  6                  -1  2    197632  ultralytics.nn.modules.block.C2f             [128, 128, 2, True]           \n",
      "  7                  -1  1    295424  ultralytics.nn.modules.conv.Conv             [128, 256, 3, 2]              \n",
      "  8                  -1  1    460288  ultralytics.nn.modules.block.C2f             [256, 256, 1, True]           \n",
      "  9                  -1  1    164608  ultralytics.nn.modules.block.SPPF            [256, 256, 5]                 \n",
      " 10                  -1  1         0  torch.nn.modules.upsampling.Upsample         [None, 2, 'nearest']          \n",
      " 11             [-1, 6]  1         0  ultralytics.nn.modules.conv.Concat           [1]                           \n",
      " 12                  -1  1    148224  ultralytics.nn.modules.block.C2f             [384, 128, 1]                 \n",
      " 13                  -1  1         0  torch.nn.modules.upsampling.Upsample         [None, 2, 'nearest']          \n",
      " 14             [-1, 4]  1         0  ultralytics.nn.modules.conv.Concat           [1]                           \n",
      " 15                  -1  1     37248  ultralytics.nn.modules.block.C2f             [192, 64, 1]                  \n",
      " 16                  -1  1     36992  ultralytics.nn.modules.conv.Conv             [64, 64, 3, 2]                \n",
      " 17            [-1, 12]  1         0  ultralytics.nn.modules.conv.Concat           [1]                           \n",
      " 18                  -1  1    123648  ultralytics.nn.modules.block.C2f             [192, 128, 1]                 \n",
      " 19                  -1  1    147712  ultralytics.nn.modules.conv.Conv             [128, 128, 3, 2]              \n",
      " 20             [-1, 9]  1         0  ultralytics.nn.modules.conv.Concat           [1]                           \n",
      " 21                  -1  1    493056  ultralytics.nn.modules.block.C2f             [384, 256, 1]                 \n",
      " 22        [15, 18, 21]  1    753457  ultralytics.nn.modules.head.Detect           [11, [64, 128, 256]]          \n",
      "Model summary: 225 layers, 3,012,993 parameters, 3,012,977 gradients, 8.2 GFLOPs\n",
      "\n",
      "Transferred 319/355 items from pretrained weights\n",
      "Freezing layer 'model.22.dfl.conv.weight'\n",
      "\u001b[34m\u001b[1mAMP: \u001b[0mrunning Automatic Mixed Precision (AMP) checks with YOLOv8n...\n",
      "\u001b[34m\u001b[1mAMP: \u001b[0mchecks passed \n"
     ]
    },
    {
     "name": "stderr",
     "output_type": "stream",
     "text": [
      "\u001b[34m\u001b[1mtrain: \u001b[0mScanning D:\\ASL_RECOGNITION\\rbflow\\DATASET\\train\\labels... 2310 images, 0 backgrounds, 0 corrupt: 100%|██████████| 2310/2310 [00:05<00:00, 387.87it/s]\n"
     ]
    },
    {
     "name": "stdout",
     "output_type": "stream",
     "text": [
      "\u001b[34m\u001b[1mtrain: \u001b[0mNew cache created: D:\\ASL_RECOGNITION\\rbflow\\DATASET\\train\\labels.cache\n"
     ]
    }
   ],
   "source": [
    "train_results = model.train(data=\"./data.yaml\", epochs=25, imgsz=640, device=0)"
   ]
  },
  {
   "cell_type": "code",
   "execution_count": 3,
   "metadata": {},
   "outputs": [
    {
     "name": "stdout",
     "output_type": "stream",
     "text": [
      "Ultralytics YOLOv8.2.57  Python-3.9.12 torch-2.3.1+cu121 CPU (Intel Core(TM) i5-8400 2.80GHz)\n",
      "Model summary (fused): 168 layers, 3,007,793 parameters, 0 gradients, 8.1 GFLOPs\n",
      "\n",
      "\u001b[34m\u001b[1mPyTorch:\u001b[0m starting from 'runs\\detect\\train4\\weights\\best.pt' with input shape (1, 3, 640, 640) BCHW and output shape(s) (1, 15, 8400) (5.9 MB)\n",
      "\u001b[31m\u001b[1mrequirements:\u001b[0m Ultralytics requirements ['tf_keras', 'sng4onnx>=1.0.1', 'onnx_graphsurgeon>=0.3.26', 'onnx>=1.12.0', 'onnx2tf>1.17.5,<=1.22.3', 'onnxslim>=0.1.31', 'tflite_support', 'onnxruntime-gpu'] not found, attempting AutoUpdate...\n",
      "Retry 1/2 failed: Command 'pip install --no-cache-dir \"tf_keras\" \"sng4onnx>=1.0.1\" \"onnx_graphsurgeon>=0.3.26\" \"onnx>=1.12.0\" \"onnx2tf>1.17.5,<=1.22.3\" \"onnxslim>=0.1.31\" \"tflite_support\" \"onnxruntime-gpu\" --extra-index-url https://pypi.ngc.nvidia.com' returned non-zero exit status 1.\n",
      "Looking in indexes: https://pypi.org/simple, https://pypi.ngc.nvidia.com\n",
      "Collecting tf_keras\n",
      "  Downloading tf_keras-2.17.0-py3-none-any.whl (1.7 MB)\n",
      "     ---------------------------------------- 1.7/1.7 MB 7.8 MB/s eta 0:00:00\n",
      "Requirement already satisfied: sng4onnx>=1.0.1 in d:\\asl_recognition\\rflow_venv\\lib\\site-packages (1.0.4)\n",
      "Collecting onnx_graphsurgeon>=0.3.26\n",
      "  Downloading onnx_graphsurgeon-0.5.2-py2.py3-none-any.whl (56 kB)\n",
      "     ---------------------------------------- 56.4/56.4 KB ? eta 0:00:00\n",
      "Collecting onnx>=1.12.0\n",
      "  Downloading onnx-1.16.2-cp39-cp39-win_amd64.whl (14.4 MB)\n",
      "     --------------------------------------- 14.4/14.4 MB 11.7 MB/s eta 0:00:00\n",
      "Collecting onnx2tf<=1.22.3,>1.17.5\n",
      "  Downloading onnx2tf-1.20.0-py3-none-any.whl (412 kB)\n",
      "     ------------------------------------- 412.8/412.8 KB 13.0 MB/s eta 0:00:00\n",
      "Collecting onnxslim>=0.1.31\n",
      "  Downloading onnxslim-0.1.34-py3-none-any.whl (140 kB)\n",
      "     ---------------------------------------- 140.3/140.3 KB ? eta 0:00:00\n",
      "Collecting tflite_support\n",
      "  Downloading tflite_support-0.4.3-cp39-cp39-win_amd64.whl (469 kB)\n",
      "     ------------------------------------- 469.6/469.6 KB 14.8 MB/s eta 0:00:00\n",
      "Collecting onnxruntime-gpu\n",
      "  Downloading onnxruntime_gpu-1.19.2-cp39-cp39-win_amd64.whl (226.4 MB)\n",
      "     ------------------------------------- 226.4/226.4 MB 11.7 MB/s eta 0:00:00\n",
      "Requirement already satisfied: tensorflow<2.18,>=2.17 in d:\\asl_recognition\\rflow_venv\\lib\\site-packages (from tf_keras) (2.17.0)\n",
      "Requirement already satisfied: numpy in d:\\asl_recognition\\rflow_venv\\lib\\site-packages (from onnx_graphsurgeon>=0.3.26) (1.26.4)\n",
      "Requirement already satisfied: protobuf>=3.20.2 in d:\\asl_recognition\\rflow_venv\\lib\\site-packages (from onnx>=1.12.0) (3.20.3)\n",
      "Requirement already satisfied: sympy in d:\\asl_recognition\\rflow_venv\\lib\\site-packages (from onnxslim>=0.1.31) (1.13.3)\n",
      "Requirement already satisfied: packaging in d:\\asl_recognition\\rflow_venv\\lib\\site-packages (from onnxslim>=0.1.31) (24.1)\n",
      "Requirement already satisfied: absl-py>=0.7.0 in d:\\asl_recognition\\rflow_venv\\lib\\site-packages (from tflite_support) (2.1.0)\n",
      "Requirement already satisfied: pybind11>=2.6.0 in d:\\asl_recognition\\rflow_venv\\lib\\site-packages (from tflite_support) (2.13.6)\n",
      "Collecting sounddevice>=0.4.4\n",
      "  Downloading sounddevice-0.5.0-py3-none-win_amd64.whl (189 kB)\n",
      "     ------------------------------------- 189.8/189.8 KB 11.2 MB/s eta 0:00:00\n",
      "Requirement already satisfied: flatbuffers>=2.0 in d:\\asl_recognition\\rflow_venv\\lib\\site-packages (from tflite_support) (24.3.25)\n",
      "Collecting coloredlogs\n",
      "  Downloading coloredlogs-15.0.1-py2.py3-none-any.whl (46 kB)\n",
      "     ---------------------------------------- 46.0/46.0 KB ? eta 0:00:00\n",
      "Collecting CFFI>=1.0\n",
      "  Downloading cffi-1.17.1-cp39-cp39-win_amd64.whl (181 kB)\n",
      "     ------------------------------------- 181.3/181.3 KB 11.4 MB/s eta 0:00:00\n",
      "Requirement already satisfied: tensorflow-intel==2.17.0 in d:\\asl_recognition\\rflow_venv\\lib\\site-packages (from tensorflow<2.18,>=2.17->tf_keras) (2.17.0)\n",
      "Requirement already satisfied: termcolor>=1.1.0 in d:\\asl_recognition\\rflow_venv\\lib\\site-packages (from tensorflow-intel==2.17.0->tensorflow<2.18,>=2.17->tf_keras) (2.4.0)\n",
      "Requirement already satisfied: ml-dtypes<0.5.0,>=0.3.1 in d:\\asl_recognition\\rflow_venv\\lib\\site-packages (from tensorflow-intel==2.17.0->tensorflow<2.18,>=2.17->tf_keras) (0.4.1)\n",
      "Requirement already satisfied: requests<3,>=2.21.0 in d:\\asl_recognition\\rflow_venv\\lib\\site-packages (from tensorflow-intel==2.17.0->tensorflow<2.18,>=2.17->tf_keras) (2.32.3)\n",
      "Requirement already satisfied: tensorflow-io-gcs-filesystem>=0.23.1 in d:\\asl_recognition\\rflow_venv\\lib\\site-packages (from tensorflow-intel==2.17.0->tensorflow<2.18,>=2.17->tf_keras) (0.31.0)\n",
      "Requirement already satisfied: setuptools in d:\\asl_recognition\\rflow_venv\\lib\\site-packages (from tensorflow-intel==2.17.0->tensorflow<2.18,>=2.17->tf_keras) (58.1.0)\n",
      "Requirement already satisfied: grpcio<2.0,>=1.24.3 in d:\\asl_recognition\\rflow_venv\\lib\\site-packages (from tensorflow-intel==2.17.0->tensorflow<2.18,>=2.17->tf_keras) (1.66.1)\n",
      "Requirement already satisfied: tensorboard<2.18,>=2.17 in d:\\asl_recognition\\rflow_venv\\lib\\site-packages (from tensorflow-intel==2.17.0->tensorflow<2.18,>=2.17->tf_keras) (2.17.1)\n",
      "Requirement already satisfied: typing-extensions>=3.6.6 in d:\\asl_recognition\\rflow_venv\\lib\\site-packages (from tensorflow-intel==2.17.0->tensorflow<2.18,>=2.17->tf_keras) (4.12.2)\n",
      "Requirement already satisfied: keras>=3.2.0 in d:\\asl_recognition\\rflow_venv\\lib\\site-packages (from tensorflow-intel==2.17.0->tensorflow<2.18,>=2.17->tf_keras) (3.5.0)\n",
      "Requirement already satisfied: libclang>=13.0.0 in d:\\asl_recognition\\rflow_venv\\lib\\site-packages (from tensorflow-intel==2.17.0->tensorflow<2.18,>=2.17->tf_keras) (18.1.1)\n",
      "Requirement already satisfied: opt-einsum>=2.3.2 in d:\\asl_recognition\\rflow_venv\\lib\\site-packages (from tensorflow-intel==2.17.0->tensorflow<2.18,>=2.17->tf_keras) (3.3.0)\n",
      "Requirement already satisfied: google-pasta>=0.1.1 in d:\\asl_recognition\\rflow_venv\\lib\\site-packages (from tensorflow-intel==2.17.0->tensorflow<2.18,>=2.17->tf_keras) (0.2.0)\n",
      "Requirement already satisfied: gast!=0.5.0,!=0.5.1,!=0.5.2,>=0.2.1 in d:\\asl_recognition\\rflow_venv\\lib\\site-packages (from tensorflow-intel==2.17.0->tensorflow<2.18,>=2.17->tf_keras) (0.6.0)\n",
      "Requirement already satisfied: astunparse>=1.6.0 in d:\\asl_recognition\\rflow_venv\\lib\\site-packages (from tensorflow-intel==2.17.0->tensorflow<2.18,>=2.17->tf_keras) (1.6.3)\n",
      "Requirement already satisfied: h5py>=3.10.0 in d:\\asl_recognition\\rflow_venv\\lib\\site-packages (from tensorflow-intel==2.17.0->tensorflow<2.18,>=2.17->tf_keras) (3.11.0)\n",
      "Requirement already satisfied: wrapt>=1.11.0 in d:\\asl_recognition\\rflow_venv\\lib\\site-packages (from tensorflow-intel==2.17.0->tensorflow<2.18,>=2.17->tf_keras) (1.16.0)\n",
      "Requirement already satisfied: six>=1.12.0 in d:\\asl_recognition\\rflow_venv\\lib\\site-packages (from tensorflow-intel==2.17.0->tensorflow<2.18,>=2.17->tf_keras) (1.16.0)\n",
      "Collecting humanfriendly>=9.1\n",
      "  Downloading humanfriendly-10.0-py2.py3-none-any.whl (86 kB)\n",
      "     ---------------------------------------- 86.8/86.8 KB 4.8 MB/s eta 0:00:00\n",
      "Requirement already satisfied: mpmath<1.4,>=1.1.0 in d:\\asl_recognition\\rflow_venv\\lib\\site-packages (from sympy->onnxslim>=0.1.31) (1.3.0)\n",
      "Requirement already satisfied: pycparser in d:\\asl_recognition\\rflow_venv\\lib\\site-packages (from CFFI>=1.0->sounddevice>=0.4.4->tflite_support) (2.22)\n",
      "Requirement already satisfied: pyreadline3 in d:\\asl_recognition\\rflow_venv\\lib\\site-packages (from humanfriendly>=9.1->coloredlogs->onnxruntime-gpu) (3.5.4)\n",
      "Requirement already satisfied: wheel<1.0,>=0.23.0 in d:\\asl_recognition\\rflow_venv\\lib\\site-packages (from astunparse>=1.6.0->tensorflow-intel==2.17.0->tensorflow<2.18,>=2.17->tf_keras) (0.44.0)\n",
      "Requirement already satisfied: rich in d:\\asl_recognition\\rflow_venv\\lib\\site-packages (from keras>=3.2.0->tensorflow-intel==2.17.0->tensorflow<2.18,>=2.17->tf_keras) (13.8.1)\n",
      "Requirement already satisfied: namex in d:\\asl_recognition\\rflow_venv\\lib\\site-packages (from keras>=3.2.0->tensorflow-intel==2.17.0->tensorflow<2.18,>=2.17->tf_keras) (0.0.8)\n",
      "Requirement already satisfied: optree in d:\\asl_recognition\\rflow_venv\\lib\\site-packages (from keras>=3.2.0->tensorflow-intel==2.17.0->tensorflow<2.18,>=2.17->tf_keras) (0.12.1)\n",
      "Requirement already satisfied: urllib3<3,>=1.21.1 in d:\\asl_recognition\\rflow_venv\\lib\\site-packages (from requests<3,>=2.21.0->tensorflow-intel==2.17.0->tensorflow<2.18,>=2.17->tf_keras) (2.2.3)\n",
      "Requirement already satisfied: certifi>=2017.4.17 in d:\\asl_recognition\\rflow_venv\\lib\\site-packages (from requests<3,>=2.21.0->tensorflow-intel==2.17.0->tensorflow<2.18,>=2.17->tf_keras) (2024.8.30)\n",
      "Requirement already satisfied: idna<4,>=2.5 in d:\\asl_recognition\\rflow_venv\\lib\\site-packages (from requests<3,>=2.21.0->tensorflow-intel==2.17.0->tensorflow<2.18,>=2.17->tf_keras) (3.10)\n",
      "Requirement already satisfied: charset-normalizer<4,>=2 in d:\\asl_recognition\\rflow_venv\\lib\\site-packages (from requests<3,>=2.21.0->tensorflow-intel==2.17.0->tensorflow<2.18,>=2.17->tf_keras) (3.3.2)\n",
      "Requirement already satisfied: werkzeug>=1.0.1 in d:\\asl_recognition\\rflow_venv\\lib\\site-packages (from tensorboard<2.18,>=2.17->tensorflow-intel==2.17.0->tensorflow<2.18,>=2.17->tf_keras) (3.0.4)\n",
      "Requirement already satisfied: tensorboard-data-server<0.8.0,>=0.7.0 in d:\\asl_recognition\\rflow_venv\\lib\\site-packages (from tensorboard<2.18,>=2.17->tensorflow-intel==2.17.0->tensorflow<2.18,>=2.17->tf_keras) (0.7.2)\n",
      "Requirement already satisfied: markdown>=2.6.8 in d:\\asl_recognition\\rflow_venv\\lib\\site-packages (from tensorboard<2.18,>=2.17->tensorflow-intel==2.17.0->tensorflow<2.18,>=2.17->tf_keras) (3.7)\n",
      "Requirement already satisfied: importlib-metadata>=4.4 in d:\\asl_recognition\\rflow_venv\\lib\\site-packages (from markdown>=2.6.8->tensorboard<2.18,>=2.17->tensorflow-intel==2.17.0->tensorflow<2.18,>=2.17->tf_keras) (8.5.0)\n",
      "Requirement already satisfied: MarkupSafe>=2.1.1 in d:\\asl_recognition\\rflow_venv\\lib\\site-packages (from werkzeug>=1.0.1->tensorboard<2.18,>=2.17->tensorflow-intel==2.17.0->tensorflow<2.18,>=2.17->tf_keras) (2.1.5)\n",
      "Requirement already satisfied: markdown-it-py>=2.2.0 in d:\\asl_recognition\\rflow_venv\\lib\\site-packages (from rich->keras>=3.2.0->tensorflow-intel==2.17.0->tensorflow<2.18,>=2.17->tf_keras) (3.0.0)\n",
      "Requirement already satisfied: pygments<3.0.0,>=2.13.0 in d:\\asl_recognition\\rflow_venv\\lib\\site-packages (from rich->keras>=3.2.0->tensorflow-intel==2.17.0->tensorflow<2.18,>=2.17->tf_keras) (2.18.0)\n",
      "Requirement already satisfied: zipp>=3.20 in d:\\asl_recognition\\rflow_venv\\lib\\site-packages (from importlib-metadata>=4.4->markdown>=2.6.8->tensorboard<2.18,>=2.17->tensorflow-intel==2.17.0->tensorflow<2.18,>=2.17->tf_keras) (3.20.2)\n",
      "Requirement already satisfied: mdurl~=0.1 in d:\\asl_recognition\\rflow_venv\\lib\\site-packages (from markdown-it-py>=2.2.0->rich->keras>=3.2.0->tensorflow-intel==2.17.0->tensorflow<2.18,>=2.17->tf_keras) (0.1.2)\n",
      "Installing collected packages: onnx2tf, onnx, humanfriendly, CFFI, sounddevice, onnxslim, onnx_graphsurgeon, coloredlogs, tflite_support, onnxruntime-gpu, tf_keras\n",
      "Successfully installed CFFI-1.17.1 coloredlogs-15.0.1 humanfriendly-10.0 onnx-1.16.2 onnx2tf-1.20.0 onnx_graphsurgeon-0.5.2 onnxruntime-gpu-1.19.2 onnxslim-0.1.34 sounddevice-0.5.0 tf_keras-2.17.0 tflite_support-0.4.3\n",
      "\n",
      "\u001b[31m\u001b[1mrequirements:\u001b[0m AutoUpdate success  107.5s, installed 8 packages: ['tf_keras', 'sng4onnx>=1.0.1', 'onnx_graphsurgeon>=0.3.26', 'onnx>=1.12.0', 'onnx2tf>1.17.5,<=1.22.3', 'onnxslim>=0.1.31', 'tflite_support', 'onnxruntime-gpu']\n",
      "\u001b[31m\u001b[1mrequirements:\u001b[0m  \u001b[1mRestart runtime or rerun command for updates to take effect\u001b[0m\n",
      "\n",
      "\n",
      "\u001b[34m\u001b[1mTensorFlow SavedModel:\u001b[0m starting export with tensorflow 2.17.0...\n",
      "WARNING:tensorflow:From d:\\ASL_RECOGNITION\\rflow_venv\\lib\\site-packages\\tf_keras\\src\\losses.py:2976: The name tf.losses.sparse_softmax_cross_entropy is deprecated. Please use tf.compat.v1.losses.sparse_softmax_cross_entropy instead.\n",
      "\n",
      "Downloading https://github.com/ultralytics/assets/releases/download/v8.2.0/calibration_image_sample_data_20x128x128x3_float32.npy.zip to 'calibration_image_sample_data_20x128x128x3_float32.npy.zip'...\n"
     ]
    },
    {
     "name": "stderr",
     "output_type": "stream",
     "text": [
      "100%|██████████| 1.11M/1.11M [00:00<00:00, 12.6MB/s]\n",
      "Unzipping calibration_image_sample_data_20x128x128x3_float32.npy.zip to D:\\ASL_RECOGNITION\\rbflow\\calibration_image_sample_data_20x128x128x3_float32.npy...: 100%|██████████| 1/1 [00:00<00:00, 41.34file/s]\n"
     ]
    },
    {
     "name": "stdout",
     "output_type": "stream",
     "text": [
      "\n",
      "\u001b[34m\u001b[1mONNX:\u001b[0m starting export with onnx 1.16.2 opset 17...\n",
      "\u001b[34m\u001b[1mONNX:\u001b[0m slimming with onnxslim 0.1.34...\n",
      "\u001b[34m\u001b[1mONNX:\u001b[0m export success  2.0s, saved as 'runs\\detect\\train4\\weights\\best.onnx' (11.8 MB)\n",
      "\u001b[34m\u001b[1mTensorFlow SavedModel:\u001b[0m starting TFLite export with onnx2tf 1.20.0...\n",
      "\u001b[34m\u001b[1mTensorFlow SavedModel:\u001b[0m export success  132.6s, saved as 'runs\\detect\\train4\\weights\\best_saved_model' (29.5 MB)\n",
      "\n",
      "\u001b[34m\u001b[1mTensorFlow Lite:\u001b[0m starting export with tensorflow 2.17.0...\n",
      "\u001b[34m\u001b[1mTensorFlow Lite:\u001b[0m export success  0.0s, saved as 'runs\\detect\\train4\\weights\\best_saved_model\\best_float32.tflite' (11.7 MB)\n",
      "\n",
      "Export complete (136.6s)\n",
      "Results saved to \u001b[1mD:\\ASL_RECOGNITION\\rbflow\\runs\\detect\\train4\\weights\u001b[0m\n",
      "Predict:         yolo predict task=detect model=runs\\detect\\train4\\weights\\best_saved_model\\best_float32.tflite imgsz=640  \n",
      "Validate:        yolo val task=detect model=runs\\detect\\train4\\weights\\best_saved_model\\best_float32.tflite imgsz=640 data=./data.yaml  \n",
      "Visualize:       https://netron.app\n"
     ]
    },
    {
     "data": {
      "text/plain": [
       "'runs\\\\detect\\\\train4\\\\weights\\\\best_saved_model\\\\best_float32.tflite'"
      ]
     },
     "execution_count": 3,
     "metadata": {},
     "output_type": "execute_result"
    }
   ],
   "source": [
    "from ultralytics import YOLO\n",
    "\n",
    "model = YOLO('./runs/detect/train4/weights/best.pt')\n",
    "\n",
    "# convert to tflite\n",
    "model.export(format='tflite')"
   ]
  }
 ],
 "metadata": {
  "kernelspec": {
   "display_name": "venv",
   "language": "python",
   "name": "python3"
  },
  "language_info": {
   "codemirror_mode": {
    "name": "ipython",
    "version": 3
   },
   "file_extension": ".py",
   "mimetype": "text/x-python",
   "name": "python",
   "nbconvert_exporter": "python",
   "pygments_lexer": "ipython3",
   "version": "3.9.12"
  }
 },
 "nbformat": 4,
 "nbformat_minor": 2
}
